{
 "cells": [
  {
   "cell_type": "markdown",
   "metadata": {
    "id": "d8yCrvnM_2sd"
   },
   "source": [
    "# Módulo 07, Tarefa 01\n",
    "\n",
    "Vamos começar a mexer na nossa base de projeto? Já fizemos um exercício de montar a variável resposta, já pudemos perceber que essa atividade pode não ser trivial. Vamos agora trabalhar a base para que fique propícia ao *scikitlearn* para trabalharmos.\n",
    "\n",
    "Lembrando, a base se chama demo01.csv, e originalmente está publicada [aqui](https://www.kaggle.com/rikdifos/credit-card-approval-prediction)."
   ]
  },
  {
   "cell_type": "markdown",
   "metadata": {
    "id": "hcMBVVE8_2sg"
   },
   "source": [
    "#### 1) Carregue a base e avalie:\n",
    "\n",
    "- As variáveis\n",
    "- Tipos de dados de cada variável\n",
    "- Quantidade de missings\n",
    "- Distribuição da variável resposta (mau)"
   ]
  },
  {
   "cell_type": "code",
   "execution_count": 11,
   "metadata": {
    "id": "jfUxW_PX_2sh"
   },
   "outputs": [
    {
     "name": "stdout",
     "output_type": "stream",
     "text": [
      "<class 'pandas.core.frame.DataFrame'>\n",
      "RangeIndex: 16650 entries, 0 to 16649\n",
      "Data columns (total 16 columns):\n",
      " #   Column                 Non-Null Count  Dtype  \n",
      "---  ------                 --------------  -----  \n",
      " 0   sexo                   16650 non-null  object \n",
      " 1   posse_de_veiculo       16650 non-null  object \n",
      " 2   posse_de_imovel        16650 non-null  object \n",
      " 3   qtd_filhos             16650 non-null  int64  \n",
      " 4   tipo_renda             16650 non-null  object \n",
      " 5   educacao               16650 non-null  object \n",
      " 6   estado_civil           16650 non-null  object \n",
      " 7   tipo_residencia        16650 non-null  object \n",
      " 8   idade                  16650 non-null  float64\n",
      " 9   tempo_emprego          16650 non-null  float64\n",
      " 10  possui_celular         16650 non-null  int64  \n",
      " 11  possui_fone_comercial  16650 non-null  int64  \n",
      " 12  possui_fone            16650 non-null  int64  \n",
      " 13  possui_email           16650 non-null  int64  \n",
      " 14  qt_pessoas_residencia  16650 non-null  float64\n",
      " 15  mau                    16650 non-null  bool   \n",
      "dtypes: bool(1), float64(3), int64(5), object(7)\n",
      "memory usage: 1.9+ MB\n",
      "None\n",
      "sexo                     0\n",
      "posse_de_veiculo         0\n",
      "posse_de_imovel          0\n",
      "qtd_filhos               0\n",
      "tipo_renda               0\n",
      "educacao                 0\n",
      "estado_civil             0\n",
      "tipo_residencia          0\n",
      "idade                    0\n",
      "tempo_emprego            0\n",
      "possui_celular           0\n",
      "possui_fone_comercial    0\n",
      "possui_fone              0\n",
      "possui_email             0\n",
      "qt_pessoas_residencia    0\n",
      "mau                      0\n",
      "dtype: int64\n",
      "mau\n",
      "False    0.976577\n",
      "True     0.023423\n",
      "Name: proportion, dtype: float64\n"
     ]
    },
    {
     "data": {
      "image/png": "[encoded data removed]",
      "text/plain": [
       "<Figure size 640x480 with 1 Axes>"
      ]
     },
     "metadata": {},
     "output_type": "display_data"
    }
   ],
   "source": [
    "import numpy as np\n",
    "import pandas as pd\n",
    "import seaborn as sns\n",
    "import matplotlib.pyplot as plt\n",
    "\n",
    "df = pd.read_csv('G:\\Downloads\\demo01 (2).csv')\n",
    "\n",
    "# Avaliar as variáveis e tipos de dados\n",
    "print(df.info())\n",
    "\n",
    "# Quantidade de dados faltantes\n",
    "print(df.isnull().sum())\n",
    "\n",
    "# Distribuição da variável resposta (mau) = 1\n",
    "print(df['mau'].value_counts(normalize=True))\n",
    "\n",
    "# Visualizar a distribuição da variável resposta\n",
    "sns.countplot(x='mau', data=df)\n",
    "plt.show()"
   ]
  },
  {
   "cell_type": "markdown",
   "metadata": {
    "id": "_v0f02mE_2si"
   },
   "source": [
    "#### 2) Vamos montar um metadados\n",
    "\n",
    "1. Crie um dataframe com os nomes de cada variável e o tipo de dados de cada variável.\n",
    "2. Adicione uma coluna nesse *dataframe* chamada \"qtd_categorias\" e coloque nela o número de categorias correspondente de cada variável.\n",
    "    Dica:\n",
    "        1. inicie uma lista vazia\n",
    "        2. faça um for ao longo dos nomes das variáveis,\n",
    "        3. conte o número de categorias dessa variável\n",
    "        4. acumule essa informação de 3. na lista que você criou em 1.\n",
    "        5. No final, essa lista pode ser atribuída à nossa variável."
   ]
  },
  {
   "cell_type": "code",
   "execution_count": 17,
   "metadata": {
    "id": "gNF5BRdA_2si"
   },
   "outputs": [
    {
     "name": "stdout",
     "output_type": "stream",
     "text": [
      "                                    variavel tipo_dado  qtd_categorias\n",
      "sexo                                    sexo    object               2\n",
      "posse_de_veiculo            posse_de_veiculo    object               2\n",
      "posse_de_imovel              posse_de_imovel    object               2\n",
      "qtd_filhos                        qtd_filhos     int64               8\n",
      "tipo_renda                        tipo_renda    object               5\n",
      "educacao                            educacao    object               5\n",
      "estado_civil                    estado_civil    object               5\n",
      "tipo_residencia              tipo_residencia    object               6\n",
      "idade                                  idade   float64            5298\n",
      "tempo_emprego                  tempo_emprego   float64            3005\n",
      "possui_celular                possui_celular     int64               1\n",
      "possui_fone_comercial  possui_fone_comercial     int64               2\n",
      "possui_fone                      possui_fone     int64               2\n",
      "possui_email                    possui_email     int64               2\n",
      "qt_pessoas_residencia  qt_pessoas_residencia   float64               9\n",
      "mau                                      mau      bool               2\n"
     ]
    }
   ],
   "source": [
    "# Criar df com nomes das variáveos e tipos de dados\n",
    "metadata = pd.DataFrame({'variavel': df.columns,'tipo_dado': df.dtypes})\n",
    "\n",
    "# Adicionar coluna 'qtd_categorias'\n",
    "qtd_categorias = []\n",
    "for col in df.columns:\n",
    "    qtd_categorias.append(df[col].nunique())\n",
    "\n",
    "metadata['qtd_categorias'] = qtd_categorias\n",
    "\n",
    "print(metadata)"
   ]
  },
  {
   "cell_type": "markdown",
   "metadata": {
    "id": "h0XKJFhY_2si"
   },
   "source": [
    "#### 3) Crie variáveis dummy para as variáveis necessárias (i.e. aquelas que são qualitativas e não estão armazenadas como {0, 1} ou {True, False}. Crie um *dataframe* apenas com as variáveis apropriadas para entrada no scikitlearn - elimine as variáveis tipo *str*, mantendo apenas suas versões *dummy*."
   ]
  },
  {
   "cell_type": "code",
   "execution_count": 37,
   "metadata": {
    "id": "ePbdZDOi_2sj"
   },
   "outputs": [
    {
     "name": "stdout",
     "output_type": "stream",
     "text": [
      "<class 'pandas.core.frame.DataFrame'>\n",
      "RangeIndex: 16650 entries, 0 to 16649\n",
      "Data columns (total 29 columns):\n",
      " #   Column                                  Non-Null Count  Dtype  \n",
      "---  ------                                  --------------  -----  \n",
      " 0   qtd_filhos                              16650 non-null  int64  \n",
      " 1   idade                                   16650 non-null  float64\n",
      " 2   tempo_emprego                           16650 non-null  float64\n",
      " 3   possui_celular                          16650 non-null  int64  \n",
      " 4   possui_fone_comercial                   16650 non-null  int64  \n",
      " 5   possui_fone                             16650 non-null  int64  \n",
      " 6   possui_email                            16650 non-null  int64  \n",
      " 7   qt_pessoas_residencia                   16650 non-null  float64\n",
      " 8   mau                                     16650 non-null  bool   \n",
      " 9   sexo_M                                  16650 non-null  bool   \n",
      " 10  posse_de_veiculo_Y                      16650 non-null  bool   \n",
      " 11  posse_de_imovel_Y                       16650 non-null  bool   \n",
      " 12  tipo_renda_Pensioner                    16650 non-null  bool   \n",
      " 13  tipo_renda_State servant                16650 non-null  bool   \n",
      " 14  tipo_renda_Student                      16650 non-null  bool   \n",
      " 15  tipo_renda_Working                      16650 non-null  bool   \n",
      " 16  educacao_Higher education               16650 non-null  bool   \n",
      " 17  educacao_Incomplete higher              16650 non-null  bool   \n",
      " 18  educacao_Lower secondary                16650 non-null  bool   \n",
      " 19  educacao_Secondary / secondary special  16650 non-null  bool   \n",
      " 20  estado_civil_Married                    16650 non-null  bool   \n",
      " 21  estado_civil_Separated                  16650 non-null  bool   \n",
      " 22  estado_civil_Single / not married       16650 non-null  bool   \n",
      " 23  estado_civil_Widow                      16650 non-null  bool   \n",
      " 24  tipo_residencia_House / apartment       16650 non-null  bool   \n",
      " 25  tipo_residencia_Municipal apartment     16650 non-null  bool   \n",
      " 26  tipo_residencia_Office apartment        16650 non-null  bool   \n",
      " 27  tipo_residencia_Rented apartment        16650 non-null  bool   \n",
      " 28  tipo_residencia_With parents            16650 non-null  bool   \n",
      "dtypes: bool(21), float64(3), int64(5)\n",
      "memory usage: 1.3 MB\n",
      "None\n"
     ]
    }
   ],
   "source": [
    "# Identificar variáveis qualitativas\n",
    "qualitativas = metadata[metadata['tipo_dado'] == 'object']['variavel'].tolist()\n",
    "\n",
    "# Remover variáveis que já são {0, 1} ou {True, False}\n",
    "for var in ['mau', 'possui_celular', 'possui_fone_comercial']:\n",
    "    if var in qualitativas:\n",
    "        qualitativas.remove(var)\n",
    "\n",
    "# Criar variáveis dummy para as variáveis qualitativas restantes\n",
    "df_dummies = pd.get_dummies(df, columns=qualitativas, drop_first=True)\n",
    "\n",
    "# Eliminar variáveis do tipo str do dataframe original\n",
    "df_prepared = df_dummies.select_dtypes(exclude=['object'])\n",
    "\n",
    "# Visualizar o dataframe preparado\n",
    "print(df_prepared.info())"
   ]
  },
  {
   "cell_type": "markdown",
   "metadata": {
    "id": "uhaqFcPE_2sj"
   },
   "source": [
    "#### 4) Qual variável é mais poderosa?\n",
    "\n",
    "Considere as variáveis ```possui_email``` e ```posse_de_veiculo```. Faça uma tabela cruzada entre elas e responda qual delas te parece mais poderosa para prever a probabilidade de ```mau = 1```?"
   ]
  },
  {
   "cell_type": "code",
   "execution_count": 55,
   "metadata": {
    "id": "3wUAHc_-_2sj"
   },
   "outputs": [
    {
     "name": "stdout",
     "output_type": "stream",
     "text": [
      "Tabela cruzada - possui_email e mau:\n",
      "mau                  0         1\n",
      "possui_email                    \n",
      "0             0.976269  0.023731\n",
      "1             0.979730  0.020270\n",
      "Tabela cruzada - posse_de_veiculo e mau:\n",
      "mau                      0         1\n",
      "posse_de_veiculo                    \n",
      "N                 0.975732  0.024268\n",
      "Y                 0.977905  0.022095\n"
     ]
    },
    {
     "data": {
      "image/png": "[encoded data removed]",
      "text/plain": [
       "<Figure size 900x500 with 2 Axes>"
      ]
     },
     "metadata": {},
     "output_type": "display_data"
    }
   ],
   "source": [
    "# Transformando a coluna 'mau' para 1 (True) e 0 (False)\n",
    "df['mau'] = df['mau'].astype(int)\n",
    "\n",
    "# Tabela cruzada entre possui_email e mau\n",
    "crosstab_email = pd.crosstab(df['possui_email'], df['mau'], normalize='index')\n",
    "print(\"Tabela cruzada - possui_email e mau:\")\n",
    "print(crosstab_email)\n",
    "\n",
    "# Tabela cruzada entre posse_de_veiculo e mau\n",
    "crosstab_veiculo = pd.crosstab(df['posse_de_veiculo'], df['mau'], normalize='index')\n",
    "print(\"Tabela cruzada - posse_de_veiculo e mau:\")\n",
    "print(crosstab_veiculo)\n",
    "\n",
    "# Análise visual\n",
    "fig, axes = plt.subplots(1, 2, figsize=(9, 5))\n",
    "\n",
    "# Verificar se a coluna '1' está presente nas tabelas cruzadas\n",
    "if 1 in crosstab_email.columns:\n",
    "    sns.barplot(ax=axes[0], x=crosstab_email.index, y=crosstab_email[1], palette=\"Blues_d\")\n",
    "    axes[0].set_title('Proporção de mau = 1 por possui_email')\n",
    "    axes[0].set_xlabel('possui_email')\n",
    "    axes[0].set_ylabel('Proporção de mau = 1')\n",
    "else:\n",
    "    axes[0].text(0.4, 0.4, 'Coluna 1 não encontrada em possui_email', horizontalalignment='center', verticalalignment='center')\n",
    "    axes[0].set_title('Proporção de mau = 1 por possui_email')\n",
    "    axes[0].set_xlabel('possui_email')\n",
    "    axes[0].set_ylabel('Proporção de mau = 1')\n",
    "\n",
    "if 1 in crosstab_veiculo.columns:\n",
    "    sns.barplot(ax=axes[1], x=crosstab_veiculo.index, y=crosstab_veiculo[1], palette=\"Blues_d\")\n",
    "    axes[1].set_title('Proporção de mau = 1 por posse_de_veiculo')\n",
    "    axes[1].set_xlabel('posse_de_veiculo')\n",
    "    axes[1].set_ylabel('Proporção de mau = 1')\n",
    "else:\n",
    "    axes[1].text(0.4, 0.4, 'Coluna 1 não encontrada em posse_de_veiculo', horizontalalignment='center', verticalalignment='center')\n",
    "    axes[1].set_title('Proporção de mau = 1 por posse_de_veiculo')\n",
    "    axes[1].set_xlabel('posse_de_veiculo')\n",
    "    axes[1].set_ylabel('Proporção de mau = 1')\n",
    "\n",
    "plt.tight_layout()\n",
    "plt.show()"
   ]
  },
  {
   "cell_type": "markdown",
   "metadata": {},
   "source": [
    "#### *Ao cruzar as tabelas, podemos verificar que há uma proporção praticamente equivalente entre ambas as variáveis em relação aos maus pagadores, porém, a variável 'possui_email' tem uma disparidade maior em relação à variável 'posse_de_veículo', então ela pode ser mais assertiva se analisarmos somente essas duas variáveis.*"
   ]
  },
  {
   "cell_type": "markdown",
   "metadata": {
    "id": "G2Issl2e_2sj"
   },
   "source": [
    "#### 5) Salve a base, pois ela será utilizada no final deste módulo."
   ]
  },
  {
   "cell_type": "code",
   "execution_count": 57,
   "metadata": {
    "id": "KSEj8OL9_2sk"
   },
   "outputs": [],
   "source": [
    "df_prepared.to_csv('G:\\Downloads\\df_prepared.csv', index=False)"
   ]
  }
 ],
 "metadata": {
  "colab": {
   "provenance": []
  },
  "kernelspec": {
   "display_name": "Python 3 (ipykernel)",
   "language": "python",
   "name": "python3"
  },
  "language_info": {
   "codemirror_mode": {
    "name": "ipython",
    "version": 3
   },
   "file_extension": ".py",
   "mimetype": "text/x-python",
   "name": "python",
   "nbconvert_exporter": "python",
   "pygments_lexer": "ipython3",
   "version": "3.11.7"
  }
 },
 "nbformat": 4,
 "nbformat_minor": 4
}
